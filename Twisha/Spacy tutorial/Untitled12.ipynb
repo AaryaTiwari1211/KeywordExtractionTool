{
 "cells": [
  {
   "cell_type": "code",
   "execution_count": 5,
   "metadata": {
    "colab": {
     "base_uri": "https://localhost:8080/"
    },
    "id": "np25VRX18zKU",
    "outputId": "ec3508b0-fd5a-4754-c645-94b6551d1e45"
   },
   "outputs": [],
   "source": [
    "import spacy"
   ]
  },
  {
   "cell_type": "code",
   "execution_count": 6,
   "metadata": {
    "id": "6p0SkQl283Zm"
   },
   "outputs": [],
   "source": [
    "nlp = spacy.load(\"en_core_web_sm\")"
   ]
  },
  {
   "cell_type": "code",
   "execution_count": null,
   "metadata": {
    "colab": {
     "base_uri": "https://localhost:8080/"
    },
    "id": "_UT-Nmej86CA",
    "outputId": "f935aec2-daed-4eef-a437-8fc5ac9c3df2"
   },
   "outputs": [
    {
     "name": "stdout",
     "output_type": "stream",
     "text": [
      "the mississippi river is the second-longest river and chief river of the second-largest drainage system in north america, second only to the hudson bay drainage system.[15][16] from its traditional source of lake itasca in northern minnesota, it flows generally south for 2,340 miles (3,770 km)[16] to the mississippi river delta in the gulf of mexico. with its many tributaries, the mississippi's watershed drains all or parts of 32 u.s. states and two canadian provinces between the rocky and appalachian mountains.[17] the main stem is entirely within the united states; the total drainage basin is 1,151,000 sq mi (2,980,000 km2), of which only about one percent is in canada. the mississippi ranks as the thirteenth-largest river by discharge in the world. the river either borders or passes through the states of minnesota, wisconsin, iowa, illinois, missouri, kentucky, tennessee, arkansas, mississippi, and louisiana.[18][19]\n",
      "\n",
      "native americans have lived along the mississippi river and its tributaries for thousands of years. most were hunter-gatherers, but some, such as the mound builders, formed prolific agricultural and urban civilizations. the arrival of europeans in the 16th century changed the native way of life as first explorers, then settlers, ventured into the basin in increasing numbers.[20] the river served first as a barrier, forming borders for new spain, new france, and the early united states, and then as a vital transportation artery and communications link. in the 19th century, during the height of the ideology of manifest destiny, the mississippi and several western tributaries, most notably the missouri, formed pathways for the western expansion of the united states.\n",
      "\n",
      "formed from thick layers of the river's silt deposits, the mississippi embayment is one of the most fertile regions of the united states; steamboats were widely used in the 19th and early 20th centuries to ship agricultural and industrial goods. during the american civil war, the mississippi's capture by union forces marked a turning point towards victory, due to the river's strategic importance to the confederate war effort. because of the substantial growth of cities and the larger ships and barges that replaced steamboats, the first decades of the 20th century saw the construction of massive engineering works such as levees, locks and dams, often built in combination. a major focus of this work has been to prevent the lower mississippi from shifting into the channel of the atchafalaya river and bypassing new orleans.\n",
      "\n",
      "since the 20th century, the mississippi river has also experienced major pollution and environmental problems — most notably elevated nutrient and chemical levels from agricultural runoff, the primary contributor to the gulf of mexico dead zone.\n"
     ]
    }
   ],
   "source": [
    "file1 = open(\"TheMississippiRiver.txt\", 'r+', encoding='utf-8')\n",
    "text = file1.read()\n",
    "file1.close()\n",
    "text = text.lower()\n",
    "print(text)"
   ]
  },
  {
   "cell_type": "code",
   "execution_count": 49,
   "metadata": {},
   "outputs": [],
   "source": [
    "text = \"the mississippi river is the second-longest river and chief river of the second-largest drainage system in north america, second only to the hudson bay drainage system. from its traditional source of lake itasca in northern minnesota, it flows generally south for 2,340 miles (3,770 km) to the mississippi river delta in the gulf of mexico. with its many tributaries, the mississippi's watershed drains all or parts of 32 u.s. states and two canadian provinces between the rocky and appalachian mountains. the main stem is entirely within the united states; the total drainage basin is 1,151,000 sq mi (2,980,000 km2), of which only about one percent is in canada. the mississippi ranks as the thirteenth-largest river by discharge in the world. the river either borders or passes through the states of minnesota, wisconsin, iowa, illinois, missouri, kentucky, tennessee, arkansas, mississippi, and louisiana. native americans have lived along the mississippi river and its tributaries for thousands of years. most were hunter-gatherers, but some, such as the mound builders, formed prolific agricultural and urban civilizations. the arrival of europeans in the 16th century changed the native way of life as first explorers, then settlers, ventured into the basin in increasing numbers.\""
   ]
  },
  {
   "cell_type": "code",
   "execution_count": 50,
   "metadata": {},
   "outputs": [
    {
     "name": "stdout",
     "output_type": "stream",
     "text": [
      "the mississippi river is the second-longest river and chief river of the second-largest drainage system in north america, second only to the hudson bay drainage system. from its traditional source of lake itasca in northern minnesota, it flows generally south for 2,340 miles (3,770 km) to the mississippi river delta in the gulf of mexico. with its many tributaries, the mississippi's watershed drains all or parts of 32 u.s. states and two canadian provinces between the rocky and appalachian mountains. the main stem is entirely within the united states; the total drainage basin is 1,151,000 sq mi (2,980,000 km2), of which only about one percent is in canada. the mississippi ranks as the thirteenth-largest river by discharge in the world. the river either borders or passes through the states of minnesota, wisconsin, iowa, illinois, missouri, kentucky, tennessee, arkansas, mississippi, and louisiana. native americans have lived along the mississippi river and its tributaries for thousands of years. most were hunter-gatherers, but some, such as the mound builders, formed prolific agricultural and urban civilizations. the arrival of europeans in the 16th century changed the native way of life as first explorers, then settlers, ventured into the basin in increasing numbers.\n"
     ]
    }
   ],
   "source": [
    "print(text)"
   ]
  },
  {
   "cell_type": "code",
   "execution_count": 51,
   "metadata": {
    "id": "ey2VkDbD88sK"
   },
   "outputs": [],
   "source": [
    "doc = nlp(text)"
   ]
  },
  {
   "cell_type": "code",
   "execution_count": 52,
   "metadata": {
    "colab": {
     "base_uri": "https://localhost:8080/"
    },
    "id": "c_pKzCCm9Arw",
    "outputId": "44f965bd-d0c0-40d9-9979-2cc04933f663"
   },
   "outputs": [
    {
     "name": "stdout",
     "output_type": "stream",
     "text": [
      "326\n",
      "{'ever', 'any', 'call', 'various', 'and', \"'ll\", 'ca', 'too', 'whom', 'top', 'amongst', 'quite', 'already', \"'s\", \"'re\", '’ll', 'of', 'several', 'should', 'n‘t', 'well', 'could', 'rather', 'after', 'really', 'beyond', 'such', 'together', 'made', 'over', 'two', 'anyway', 'may', 'throughout', 'themselves', 'five', 'much', 'twelve', 'either', 'does', 'can', 'to', 'against', 'nevertheless', 'n’t', 'we', 'your', 'three', 'per', 'ours', 'hereafter', 'which', 'four', 'somewhere', 'among', 'third', \"'d\", 'afterwards', 'while', 'wherein', 'whereafter', 'be', 'although', '‘ve', 'seemed', 'everyone', 'becomes', 'as', 'anyone', 'besides', 'only', 'myself', 'between', '’ve', 'onto', 'then', 'been', 'ourselves', 'these', 'did', 'up', 'front', 'her', 'fifteen', 'thereafter', 'wherever', 'down', 'side', \"n't\", '’re', 'almost', 'am', 'itself', 'thereupon', 'on', 'but', '’s', 'nothing', 'often', 'anyhow', 'first', 'hundred', 'was', 'thus', 'own', 'one', 'serious', 'me', 'until', 'ten', 'within', 'toward', 'sometimes', 'put', 'yet', '’d', 'part', 'see', 'behind', 'she', 'just', '‘m', 'anywhere', 'sometime', 'via', 'his', 'whose', 'had', 'you', 'without', 'namely', 'most', 'move', 'others', 'twenty', 'across', 'around', 'because', 'hers', 'regarding', 'amount', 'seeming', 'latter', 'neither', 'both', 'along', 'some', 'next', 'yourself', \"'ve\", 'its', 'someone', '’m', 'get', 'very', 'a', 'alone', '‘s', 'latterly', 'formerly', 'thence', 'thru', 'himself', 'whenever', 'seems', 'them', 'eight', 'there', 'herself', 'mostly', 'what', 'through', 'when', 'every', '‘re', 'will', 'same', 'becoming', 'no', 'than', 'thereby', 'still', 'beforehand', 'therefore', 'off', 'used', 'everything', 'about', 'something', 'were', 'nor', 'though', 'each', 'become', 'all', 'otherwise', 'make', 'now', 'enough', 'if', 'moreover', 'beside', 'whereas', 'i', 'whole', 'go', 'further', 'have', 'due', 'everywhere', 'never', 'cannot', 'nowhere', 'therein', 'always', 'meanwhile', 'whoever', 'below', 'whereby', 'do', 'also', 'forty', 're', 'it', 'seem', 'noone', 'above', 'how', 'mine', \"'m\", 'would', 'from', 'us', 'they', 'or', 'those', 'name', '‘ll', 'say', 'somehow', 'show', 'whether', 'might', 'else', 'upon', 'however', 'since', 'the', 'is', 'back', 'empty', 'give', 'less', 'are', 'whither', 'few', 'my', 'him', 'being', 'where', 'before', 'during', 'except', 'for', 'out', 'yourselves', 'please', 'must', 'last', 'take', 'done', 'whatever', 'none', 'least', 'many', 'other', 'hence', 'their', 'that', 'former', 'sixty', 'an', 'who', 'has', 'once', 'our', 'fifty', 'under', 'into', 'by', 'eleven', 'not', 'whence', 'here', 'keep', 'more', 'again', 'indeed', 'using', 'full', 'with', 'at', 'so', 'why', 'even', 'nobody', 'this', 'herein', 'nine', 'hereupon', '‘d', 'another', 'hereby', 'whereupon', 'in', 'yours', 'anything', 'elsewhere', 'perhaps', 'doing', 'six', 'bottom', 'he', 'towards', 'became', 'unless'}\n"
     ]
    }
   ],
   "source": [
    "stopword = nlp.Defaults.stop_words\n",
    "print(len(stopword))\n",
    "print(stopword)"
   ]
  },
  {
   "cell_type": "code",
   "execution_count": 53,
   "metadata": {
    "colab": {
     "base_uri": "https://localhost:8080/"
    },
    "id": "85pIHOsy9C1s",
    "outputId": "6124a1da-9fc1-46e9-ebbb-2196fefb97fb"
   },
   "outputs": [
    {
     "name": "stdout",
     "output_type": "stream",
     "text": [
      "the True\n",
      "mississippi False\n",
      "river False\n",
      "is True\n",
      "the True\n",
      "second False\n",
      "- False\n",
      "longest False\n",
      "river False\n",
      "and True\n"
     ]
    }
   ],
   "source": [
    "for token in doc[:10]:\n",
    "  print(token.text, token.is_stop)"
   ]
  },
  {
   "cell_type": "code",
   "execution_count": 54,
   "metadata": {
    "colab": {
     "base_uri": "https://localhost:8080/"
    },
    "id": "E62b6vrE9Fv8",
    "outputId": "dcd57640-d162-4d2d-c13b-32dfd2da9e20"
   },
   "outputs": [
    {
     "name": "stdout",
     "output_type": "stream",
     "text": [
      "[mississippi, river, second, longest, river, chief, river, second, largest, drainage, system, north, america, second, hudson, bay, drainage, system, traditional, source, lake, itasca, northern, minnesota, flows, generally, south, 2,340, miles, 3,770, km, mississippi, river, delta, gulf, mexico, tributaries, mississippi, watershed, drains, parts, 32, u.s, ., states, canadian, provinces, rocky, appalachian, mountains, main, stem, entirely, united, states, total, drainage, basin, 1,151,000, sq, mi, 2,980,000, km2, percent, canada, mississippi, ranks, thirteenth, largest, river, discharge, world, river, borders, passes, states, minnesota, wisconsin, iowa, illinois, missouri, kentucky, tennessee, arkansas, mississippi, louisiana, native, americans, lived, mississippi, river, tributaries, thousands, years, hunter, gatherers, mound, builders, formed, prolific, agricultural, urban, civilizations, arrival, europeans, 16th, century, changed, native, way, life, explorers, settlers, ventured, basin, increasing, numbers]\n"
     ]
    }
   ],
   "source": [
    "text2 = []\n",
    "for token in doc:\n",
    "  if token.is_stop == False and token.pos_ != \"PUNCT\":\n",
    "    text2.append(token)\n",
    "print(text2)"
   ]
  },
  {
   "cell_type": "code",
   "execution_count": 55,
   "metadata": {
    "colab": {
     "base_uri": "https://localhost:8080/"
    },
    "id": "knNiUpBa9HqR",
    "outputId": "8fa45d26-7285-4ef9-cfd4-68bca801c28a"
   },
   "outputs": [
    {
     "name": "stdout",
     "output_type": "stream",
     "text": [
      "[mississippi, river, second, longest, river, chief, river, second, largest, drainage, system, north, america, second, hudson, bay, drainage, system, traditional, source, lake, itasca, northern, minnesota, flows, generally, south, 2,340, miles, 3,770, km, mississippi, river, delta, gulf, mexico, tributaries, mississippi, watershed, drains, parts, 32, u.s, ., states, canadian, provinces, rocky, appalachian, mountains, main, stem, entirely, united, states, total, drainage, basin, 1,151,000, sq, mi, 2,980,000, km2, percent, canada, mississippi, ranks, thirteenth, largest, river, discharge, world, river, borders, passes, states, minnesota, wisconsin, iowa, illinois, missouri, kentucky, tennessee, arkansas, mississippi, louisiana, native, americans, lived, mississippi, river, tributaries, thousands, years, hunter, gatherers, mound, builders, formed, prolific, agricultural, urban, civilizations, arrival, europeans, 16th, century, changed, native, way, life, explorers, settlers, ventured, basin, increasing, numbers]\n"
     ]
    }
   ],
   "source": [
    "doc2 = nlp(str(text2))\n",
    "print(doc2)"
   ]
  },
  {
   "cell_type": "code",
   "execution_count": 56,
   "metadata": {
    "colab": {
     "base_uri": "https://localhost:8080/"
    },
    "id": "H-V_7OmF9Kyv",
    "outputId": "4214d20c-ad7d-416d-f203-a2134364d1c9"
   },
   "outputs": [
    {
     "name": "stdout",
     "output_type": "stream",
     "text": [
      "[ mississippi , river , second , long , river , chief , river , second , large , drainage , system , north , america , second , hudson , bay , drainage , system , traditional , source , lake , itasca , northern , minnesota , flow , generally , south , 2,340 , mile , 3,770 , km , mississippi , river , delta , gulf , mexico , tributaries , mississippi , watershed , drain , part , 32 , u.s , . , states , canadian , province , rocky , appalachian , mountain , main , stem , entirely , united , states , total , drainage , basin , 1,151,000 , sq , mi , 2,980,000 , km2 , percent , canada , mississippi , rank , thirteenth , large , river , discharge , world , river , border , pass , states , minnesota , wisconsin , iowa , illinois , missouri , kentucky , tennessee , arkansas , mississippi , louisiana , native , americans , live , mississippi , river , tributary , thousand , year , hunter , gatherer , mound , builder , form , prolific , agricultural , urban , civilization , arrival , european , 16th , century , change , native , way , life , explorer , settler , venture , basin , increase , number ]\n"
     ]
    }
   ],
   "source": [
    "text3 = \" \".join([token.lemma_ for token in doc2])\n",
    "print(text3)"
   ]
  },
  {
   "cell_type": "code",
   "execution_count": 57,
   "metadata": {
    "id": "bVYF2QjN9Onm"
   },
   "outputs": [],
   "source": [
    "text4 = str(text3).split()"
   ]
  },
  {
   "cell_type": "code",
   "execution_count": 58,
   "metadata": {
    "colab": {
     "base_uri": "https://localhost:8080/"
    },
    "id": "8IpU0twi9RAL",
    "outputId": "e890d146-b1a5-4262-f6dc-aba87ccf712a"
   },
   "outputs": [
    {
     "name": "stdout",
     "output_type": "stream",
     "text": [
      "[(',', 116), ('river', 7), ('mississippi', 6), ('second', 3), ('drainage', 3), ('states', 3), ('large', 2), ('system', 2), ('minnesota', 2), ('basin', 2), ('native', 2), ('[', 1), ('long', 1), ('chief', 1), ('north', 1), ('america', 1), ('hudson', 1), ('bay', 1), ('traditional', 1), ('source', 1), ('lake', 1), ('itasca', 1), ('northern', 1), ('flow', 1), ('generally', 1), ('south', 1), ('2,340', 1), ('mile', 1), ('3,770', 1), ('km', 1), ('delta', 1), ('gulf', 1), ('mexico', 1), ('tributaries', 1), ('watershed', 1), ('drain', 1), ('part', 1), ('32', 1), ('u.s', 1), ('.', 1), ('canadian', 1), ('province', 1), ('rocky', 1), ('appalachian', 1), ('mountain', 1), ('main', 1), ('stem', 1), ('entirely', 1), ('united', 1), ('total', 1), ('1,151,000', 1), ('sq', 1), ('mi', 1), ('2,980,000', 1), ('km2', 1), ('percent', 1), ('canada', 1), ('rank', 1), ('thirteenth', 1), ('discharge', 1), ('world', 1), ('border', 1), ('pass', 1), ('wisconsin', 1), ('iowa', 1), ('illinois', 1), ('missouri', 1), ('kentucky', 1), ('tennessee', 1), ('arkansas', 1), ('louisiana', 1), ('americans', 1), ('live', 1), ('tributary', 1), ('thousand', 1), ('year', 1), ('hunter', 1), ('gatherer', 1), ('mound', 1), ('builder', 1), ('form', 1), ('prolific', 1), ('agricultural', 1), ('urban', 1), ('civilization', 1), ('arrival', 1), ('european', 1), ('16th', 1), ('century', 1), ('change', 1), ('way', 1), ('life', 1), ('explorer', 1), ('settler', 1), ('venture', 1), ('increase', 1), ('number', 1), (']', 1)]\n"
     ]
    }
   ],
   "source": [
    "from nltk import FreqDist\n",
    "\n",
    "fdist1 = FreqDist(text4)\n",
    "print(fdist1.most_common())"
   ]
  },
  {
   "cell_type": "code",
   "execution_count": 59,
   "metadata": {
    "colab": {
     "base_uri": "https://localhost:8080/"
    },
    "id": "Xd-QA8qrjo9G",
    "outputId": "b3937592-3180-4cd1-f308-84a5e1f5e17a"
   },
   "outputs": [
    {
     "name": "stdout",
     "output_type": "stream",
     "text": [
      "          ,      ,      ,      ,      ,      ,      ,      ,      ,      ,  \\\n",
      ",     13455  13455  13455  13455  13455  13455  13455  13455  13455  13455   \n",
      ",     13455  13455  13455  13455  13455  13455  13455  13455  13455  13455   \n",
      ",     13455  13455  13455  13455  13455  13455  13455  13455  13455  13455   \n",
      ",     13455  13455  13455  13455  13455  13455  13455  13455  13455  13455   \n",
      ",     13455  13455  13455  13455  13455  13455  13455  13455  13455  13455   \n",
      "...     ...    ...    ...    ...    ...    ...    ...    ...    ...    ...   \n",
      "year     95     95     95     95     95     95     95     95     95     95   \n",
      "year     95     95     95     95     95     95     95     95     95     95   \n",
      "year     95     95     95     95     95     95     95     95     95     95   \n",
      "year     95     95     95     95     95     95     95     95     95     95   \n",
      "year     95     95     95     95     95     95     95     95     95     95   \n",
      "\n",
      "      ...  year  year  year  year  year  year  year  year  year  year  \n",
      ",     ...    95    95    95    95    95    95    95    95    95    95  \n",
      ",     ...    95    95    95    95    95    95    95    95    95    95  \n",
      ",     ...    95    95    95    95    95    95    95    95    95    95  \n",
      ",     ...    95    95    95    95    95    95    95    95    95    95  \n",
      ",     ...    95    95    95    95    95    95    95    95    95    95  \n",
      "...   ...   ...   ...   ...   ...   ...   ...   ...   ...   ...   ...  \n",
      "year  ...     0     0     0     0     0     0     0     0     0     0  \n",
      "year  ...     0     0     0     0     0     0     0     0     0     0  \n",
      "year  ...     0     0     0     0     0     0     0     0     0     0  \n",
      "year  ...     0     0     0     0     0     0     0     0     0     0  \n",
      "year  ...     0     0     0     0     0     0     0     0     0     0  \n",
      "\n",
      "[27576 rows x 27576 columns]\n"
     ]
    }
   ],
   "source": [
    "import pandas as pd\n",
    "import numpy as np\n",
    "import nltk \n",
    "\n",
    "keyword = []\n",
    "delimiters = ['.']\n",
    "count = 0\n",
    "from collections import defaultdict\n",
    "\n",
    "def co_occurrence(sentences, window_size):\n",
    "    d = defaultdict(int)\n",
    "    count = 0\n",
    "    vocab = []\n",
    "    for text in sentences:\n",
    "        text = text.lower().split()\n",
    "        for word in text:\n",
    "            if word not in stopword:\n",
    "                for i in range(len(word)):\n",
    "                    if i in delimiters:\n",
    "                        count = count + 1\n",
    "                if count==0:\n",
    "                    keyword.append(word)\n",
    "        for i in range(len(keyword)):\n",
    "            token = keyword[i]\n",
    "            vocab.append(token)\n",
    "            next_token = keyword[i+1 : i+1+window_size]\n",
    "            for t in next_token:\n",
    "                key = tuple(sorted([t, token]) )\n",
    "                d[key] += 1\n",
    "    vocab = sorted(vocab)\n",
    "    df = pd.DataFrame(data=np.zeros((len(vocab), len(vocab)), dtype=np.int16),index=vocab,columns=vocab)\n",
    "    for key, value in d.items():\n",
    "        df.at[key[0], key[1]] = value\n",
    "        df.at[key[1], key[0]] = value\n",
    "    return df\n",
    "\n",
    "\n",
    "sentences = ['Pratham is a good boy a very good boy.']\n",
    "\n",
    "dataf = co_occurrence(text4,2)\n",
    "print(dataf)"
   ]
  },
  {
   "cell_type": "code",
   "execution_count": 60,
   "metadata": {
    "id": "fCT2b2jj8wUq"
   },
   "outputs": [
    {
     "name": "stdout",
     "output_type": "stream",
     "text": [
      "hi\n"
     ]
    }
   ],
   "source": []
  },
  {
   "cell_type": "code",
   "execution_count": null,
   "metadata": {},
   "outputs": [],
   "source": []
  }
 ],
 "metadata": {
  "colab": {
   "provenance": []
  },
  "kernelspec": {
   "display_name": "Python 3 (ipykernel)",
   "language": "python",
   "name": "python3"
  },
  "language_info": {
   "codemirror_mode": {
    "name": "ipython",
    "version": 3
   },
   "file_extension": ".py",
   "mimetype": "text/x-python",
   "name": "python",
   "nbconvert_exporter": "python",
   "pygments_lexer": "ipython3",
   "version": "3.9.13"
  }
 },
 "nbformat": 4,
 "nbformat_minor": 1
}
