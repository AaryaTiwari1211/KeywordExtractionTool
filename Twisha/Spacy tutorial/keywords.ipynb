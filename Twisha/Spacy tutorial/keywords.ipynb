{
  "nbformat": 4,
  "nbformat_minor": 0,
  "metadata": {
    "colab": {
      "provenance": []
    },
    "kernelspec": {
      "name": "python3",
      "display_name": "Python 3"
    },
    "language_info": {
      "name": "python"
    }
  },
  "cells": [
    {
      "cell_type": "code",
      "execution_count": 1,
      "metadata": {
        "id": "R_SokfCsa9nV"
      },
      "outputs": [],
      "source": [
        "text=\"National Stock Exchange of India Limited is one of the leading stock exchanges in India, based in Mumbai. It is the world’s largest derivatives exchange by number of contracts traded and the fourth largest in cash equities by number of trades for the calendar year 2021. NSE is under the ownership of some leading financial institutions, banks, and insurance companies.NSE was established in 1992 as the first dematerialized electronic exchange in the country. NSE was the first exchange in the country to provide a modern, fully automated screen-based electronic trading system that offered easy trading facilities to investors spread across the length and breadth of the country. Ashishkumar Chauhan is the Managing Director and Chief Executive Officer of NSE.\""
      ]
    },
    {
      "cell_type": "code",
      "source": [
        "text"
      ],
      "metadata": {
        "colab": {
          "base_uri": "https://localhost:8080/",
          "height": 105
        },
        "id": "6uHrcEa2bCBL",
        "outputId": "819e5d6d-07f9-45f0-d9b2-44f2a5ca36d8"
      },
      "execution_count": 2,
      "outputs": [
        {
          "output_type": "execute_result",
          "data": {
            "text/plain": [
              "'National Stock Exchange of India Limited is one of the leading stock exchanges in India, based in Mumbai. It is the world’s largest derivatives exchange by number of contracts traded and the fourth largest in cash equities by number of trades for the calendar year 2021. NSE is under the ownership of some leading financial institutions, banks, and insurance companies.NSE was established in 1992 as the first dematerialized electronic exchange in the country. NSE was the first exchange in the country to provide a modern, fully automated screen-based electronic trading system that offered easy trading facilities to investors spread across the length and breadth of the country. Ashishkumar Chauhan is the Managing Director and Chief Executive Officer of NSE.'"
            ],
            "application/vnd.google.colaboratory.intrinsic+json": {
              "type": "string"
            }
          },
          "metadata": {},
          "execution_count": 2
        }
      ]
    },
    {
      "cell_type": "code",
      "source": [
        "import spacy"
      ],
      "metadata": {
        "colab": {
          "base_uri": "https://localhost:8080/"
        },
        "id": "iXdbegi7bD7H",
        "outputId": "00497f36-f560-4444-9ea7-0b69ea74c662"
      },
      "execution_count": 3,
      "outputs": [
        {
          "output_type": "stream",
          "name": "stderr",
          "text": [
            "/usr/local/lib/python3.8/dist-packages/torch/cuda/__init__.py:497: UserWarning: Can't initialize NVML\n",
            "  warnings.warn(\"Can't initialize NVML\")\n"
          ]
        }
      ]
    },
    {
      "cell_type": "code",
      "source": [
        "nlp=spacy.load(\"en_core_web_sm\")"
      ],
      "metadata": {
        "id": "8kKIjaP6bFmx"
      },
      "execution_count": 4,
      "outputs": []
    },
    {
      "cell_type": "code",
      "source": [
        "doc=nlp(text)\n",
        "doc"
      ],
      "metadata": {
        "colab": {
          "base_uri": "https://localhost:8080/"
        },
        "id": "HRzANEOWbHzY",
        "outputId": "2dd978a7-9851-457e-93fd-d75645eca01d"
      },
      "execution_count": 5,
      "outputs": [
        {
          "output_type": "execute_result",
          "data": {
            "text/plain": [
              "National Stock Exchange of India Limited is one of the leading stock exchanges in India, based in Mumbai. It is the world’s largest derivatives exchange by number of contracts traded and the fourth largest in cash equities by number of trades for the calendar year 2021. NSE is under the ownership of some leading financial institutions, banks, and insurance companies.NSE was established in 1992 as the first dematerialized electronic exchange in the country. NSE was the first exchange in the country to provide a modern, fully automated screen-based electronic trading system that offered easy trading facilities to investors spread across the length and breadth of the country. Ashishkumar Chauhan is the Managing Director and Chief Executive Officer of NSE."
            ]
          },
          "metadata": {},
          "execution_count": 5
        }
      ]
    },
    {
      "cell_type": "code",
      "source": [
        "len(text)"
      ],
      "metadata": {
        "colab": {
          "base_uri": "https://localhost:8080/"
        },
        "id": "VoHNTklUbKeh",
        "outputId": "1c9c9428-ef72-4f10-c4a8-0b67a8032c64"
      },
      "execution_count": 6,
      "outputs": [
        {
          "output_type": "execute_result",
          "data": {
            "text/plain": [
              "762"
            ]
          },
          "metadata": {},
          "execution_count": 6
        }
      ]
    },
    {
      "cell_type": "code",
      "source": [
        "len(doc)"
      ],
      "metadata": {
        "colab": {
          "base_uri": "https://localhost:8080/"
        },
        "id": "CJv1v0FQbMwr",
        "outputId": "262a085d-f3fa-4697-d7cc-385c5f629f4d"
      },
      "execution_count": 7,
      "outputs": [
        {
          "output_type": "execute_result",
          "data": {
            "text/plain": [
              "133"
            ]
          },
          "metadata": {},
          "execution_count": 7
        }
      ]
    },
    {
      "cell_type": "code",
      "source": [
        "for ent in doc.ents:\n",
        "  print(ent.text,ent.label_)"
      ],
      "metadata": {
        "colab": {
          "base_uri": "https://localhost:8080/"
        },
        "id": "XhOTpC_JbO13",
        "outputId": "993a313b-7375-459c-b829-214657f8fa20"
      },
      "execution_count": 8,
      "outputs": [
        {
          "output_type": "stream",
          "name": "stdout",
          "text": [
            "National Stock Exchange of ORG\n",
            "one CARDINAL\n",
            "India GPE\n",
            "Mumbai GPE\n",
            "fourth ORDINAL\n",
            "year 2021 DATE\n",
            "1992 DATE\n",
            "first ORDINAL\n",
            "first ORDINAL\n",
            "Ashishkumar Chauhan PERSON\n"
          ]
        }
      ]
    },
    {
      "cell_type": "code",
      "source": [
        "stopwords=[w for w in doc if w.is_stop==True]\n",
        "stopwords"
      ],
      "metadata": {
        "colab": {
          "base_uri": "https://localhost:8080/"
        },
        "id": "rrK0T8owbRHP",
        "outputId": "6e8c287e-792a-4235-8bbf-b1da1d314438"
      },
      "execution_count": 9,
      "outputs": [
        {
          "output_type": "execute_result",
          "data": {
            "text/plain": [
              "[of,\n",
              " is,\n",
              " one,\n",
              " of,\n",
              " the,\n",
              " in,\n",
              " in,\n",
              " It,\n",
              " is,\n",
              " the,\n",
              " ’s,\n",
              " by,\n",
              " of,\n",
              " and,\n",
              " the,\n",
              " in,\n",
              " by,\n",
              " of,\n",
              " for,\n",
              " the,\n",
              " is,\n",
              " under,\n",
              " the,\n",
              " of,\n",
              " some,\n",
              " and,\n",
              " was,\n",
              " in,\n",
              " as,\n",
              " the,\n",
              " first,\n",
              " in,\n",
              " the,\n",
              " was,\n",
              " the,\n",
              " first,\n",
              " in,\n",
              " the,\n",
              " to,\n",
              " a,\n",
              " that,\n",
              " to,\n",
              " across,\n",
              " the,\n",
              " and,\n",
              " of,\n",
              " the,\n",
              " is,\n",
              " the,\n",
              " and,\n",
              " of]"
            ]
          },
          "metadata": {},
          "execution_count": 9
        }
      ]
    },
    {
      "cell_type": "code",
      "source": [
        "text2=[w for w in doc if w.is_stop==False  and w.pos_ != \"PUNCT\"]\n",
        "text2"
      ],
      "metadata": {
        "colab": {
          "base_uri": "https://localhost:8080/"
        },
        "id": "5wh-W6lIboVv",
        "outputId": "fff5296f-b20a-43b9-be34-31a58d82b22a"
      },
      "execution_count": 10,
      "outputs": [
        {
          "output_type": "execute_result",
          "data": {
            "text/plain": [
              "[National,\n",
              " Stock,\n",
              " Exchange,\n",
              " India,\n",
              " Limited,\n",
              " leading,\n",
              " stock,\n",
              " exchanges,\n",
              " India,\n",
              " based,\n",
              " Mumbai,\n",
              " world,\n",
              " largest,\n",
              " derivatives,\n",
              " exchange,\n",
              " number,\n",
              " contracts,\n",
              " traded,\n",
              " fourth,\n",
              " largest,\n",
              " cash,\n",
              " equities,\n",
              " number,\n",
              " trades,\n",
              " calendar,\n",
              " year,\n",
              " 2021,\n",
              " NSE,\n",
              " ownership,\n",
              " leading,\n",
              " financial,\n",
              " institutions,\n",
              " banks,\n",
              " insurance,\n",
              " companies,\n",
              " NSE,\n",
              " established,\n",
              " 1992,\n",
              " dematerialized,\n",
              " electronic,\n",
              " exchange,\n",
              " country,\n",
              " NSE,\n",
              " exchange,\n",
              " country,\n",
              " provide,\n",
              " modern,\n",
              " fully,\n",
              " automated,\n",
              " screen,\n",
              " based,\n",
              " electronic,\n",
              " trading,\n",
              " system,\n",
              " offered,\n",
              " easy,\n",
              " trading,\n",
              " facilities,\n",
              " investors,\n",
              " spread,\n",
              " length,\n",
              " breadth,\n",
              " country,\n",
              " Ashishkumar,\n",
              " Chauhan,\n",
              " Managing,\n",
              " Director,\n",
              " Chief,\n",
              " Executive,\n",
              " Officer,\n",
              " NSE]"
            ]
          },
          "metadata": {},
          "execution_count": 10
        }
      ]
    },
    {
      "cell_type": "code",
      "source": [
        "delimiters=[w for w in doc if w.pos_ == \"PUNCT\"]\n",
        "delimiter=str(delimiters)\n",
        "delimiter"
      ],
      "metadata": {
        "colab": {
          "base_uri": "https://localhost:8080/",
          "height": 36
        },
        "id": "uuIVl4-2T9fF",
        "outputId": "23f71c33-eee0-40dc-be10-717a64c3e4f6"
      },
      "execution_count": 11,
      "outputs": [
        {
          "output_type": "execute_result",
          "data": {
            "text/plain": [
              "'[,, ., ., ,, ,, ., ., ,, -, ., .]'"
            ],
            "application/vnd.google.colaboratory.intrinsic+json": {
              "type": "string"
            }
          },
          "metadata": {},
          "execution_count": 11
        }
      ]
    },
    {
      "cell_type": "code",
      "source": [
        "dl=delimiter.split()\n",
        "dl"
      ],
      "metadata": {
        "colab": {
          "base_uri": "https://localhost:8080/"
        },
        "id": "RhzfZLr-kr8H",
        "outputId": "642c60d3-d8a9-4e95-dea8-0bb0d479a118"
      },
      "execution_count": 12,
      "outputs": [
        {
          "output_type": "execute_result",
          "data": {
            "text/plain": [
              "['[,,', '.,', '.,', ',,', ',,', '.,', '.,', ',,', '-,', '.,', '.]']"
            ]
          },
          "metadata": {},
          "execution_count": 12
        }
      ]
    },
    {
      "cell_type": "code",
      "source": [
        "keywords=str(text2)\n",
        "keywords"
      ],
      "metadata": {
        "colab": {
          "base_uri": "https://localhost:8080/",
          "height": 88
        },
        "id": "UOZHDzO9bupG",
        "outputId": "7c0b5749-d204-48ca-aee4-88c23c4940f3"
      },
      "execution_count": 13,
      "outputs": [
        {
          "output_type": "execute_result",
          "data": {
            "text/plain": [
              "'[National, Stock, Exchange, India, Limited, leading, stock, exchanges, India, based, Mumbai, world, largest, derivatives, exchange, number, contracts, traded, fourth, largest, cash, equities, number, trades, calendar, year, 2021, NSE, ownership, leading, financial, institutions, banks, insurance, companies, NSE, established, 1992, dematerialized, electronic, exchange, country, NSE, exchange, country, provide, modern, fully, automated, screen, based, electronic, trading, system, offered, easy, trading, facilities, investors, spread, length, breadth, country, Ashishkumar, Chauhan, Managing, Director, Chief, Executive, Officer, NSE]'"
            ],
            "application/vnd.google.colaboratory.intrinsic+json": {
              "type": "string"
            }
          },
          "metadata": {},
          "execution_count": 13
        }
      ]
    },
    {
      "cell_type": "code",
      "source": [
        "import nltk"
      ],
      "metadata": {
        "id": "Ya75Hm_Ebwci"
      },
      "execution_count": 14,
      "outputs": []
    },
    {
      "cell_type": "code",
      "source": [
        "from nltk import FreqDist"
      ],
      "metadata": {
        "id": "_38VGKnVb00K"
      },
      "execution_count": 15,
      "outputs": []
    },
    {
      "cell_type": "code",
      "source": [
        "word=keywords.split()\n",
        "word"
      ],
      "metadata": {
        "id": "j5TWFMWVbyUP",
        "colab": {
          "base_uri": "https://localhost:8080/"
        },
        "outputId": "bde69343-718e-4969-e2f6-c88eb93d3729"
      },
      "execution_count": 16,
      "outputs": [
        {
          "output_type": "execute_result",
          "data": {
            "text/plain": [
              "['[National,',\n",
              " 'Stock,',\n",
              " 'Exchange,',\n",
              " 'India,',\n",
              " 'Limited,',\n",
              " 'leading,',\n",
              " 'stock,',\n",
              " 'exchanges,',\n",
              " 'India,',\n",
              " 'based,',\n",
              " 'Mumbai,',\n",
              " 'world,',\n",
              " 'largest,',\n",
              " 'derivatives,',\n",
              " 'exchange,',\n",
              " 'number,',\n",
              " 'contracts,',\n",
              " 'traded,',\n",
              " 'fourth,',\n",
              " 'largest,',\n",
              " 'cash,',\n",
              " 'equities,',\n",
              " 'number,',\n",
              " 'trades,',\n",
              " 'calendar,',\n",
              " 'year,',\n",
              " '2021,',\n",
              " 'NSE,',\n",
              " 'ownership,',\n",
              " 'leading,',\n",
              " 'financial,',\n",
              " 'institutions,',\n",
              " 'banks,',\n",
              " 'insurance,',\n",
              " 'companies,',\n",
              " 'NSE,',\n",
              " 'established,',\n",
              " '1992,',\n",
              " 'dematerialized,',\n",
              " 'electronic,',\n",
              " 'exchange,',\n",
              " 'country,',\n",
              " 'NSE,',\n",
              " 'exchange,',\n",
              " 'country,',\n",
              " 'provide,',\n",
              " 'modern,',\n",
              " 'fully,',\n",
              " 'automated,',\n",
              " 'screen,',\n",
              " 'based,',\n",
              " 'electronic,',\n",
              " 'trading,',\n",
              " 'system,',\n",
              " 'offered,',\n",
              " 'easy,',\n",
              " 'trading,',\n",
              " 'facilities,',\n",
              " 'investors,',\n",
              " 'spread,',\n",
              " 'length,',\n",
              " 'breadth,',\n",
              " 'country,',\n",
              " 'Ashishkumar,',\n",
              " 'Chauhan,',\n",
              " 'Managing,',\n",
              " 'Director,',\n",
              " 'Chief,',\n",
              " 'Executive,',\n",
              " 'Officer,',\n",
              " 'NSE]']"
            ]
          },
          "metadata": {},
          "execution_count": 16
        }
      ]
    },
    {
      "cell_type": "code",
      "source": [
        "frequency=FreqDist(word)\n",
        "print(frequency.most_common())"
      ],
      "metadata": {
        "id": "JKRiKecMb4sn",
        "colab": {
          "base_uri": "https://localhost:8080/"
        },
        "outputId": "9c426cab-87db-4d42-f887-343534db3114"
      },
      "execution_count": 17,
      "outputs": [
        {
          "output_type": "stream",
          "name": "stdout",
          "text": [
            "[('exchange,', 3), ('NSE,', 3), ('country,', 3), ('India,', 2), ('leading,', 2), ('based,', 2), ('largest,', 2), ('number,', 2), ('electronic,', 2), ('trading,', 2), ('[National,', 1), ('Stock,', 1), ('Exchange,', 1), ('Limited,', 1), ('stock,', 1), ('exchanges,', 1), ('Mumbai,', 1), ('world,', 1), ('derivatives,', 1), ('contracts,', 1), ('traded,', 1), ('fourth,', 1), ('cash,', 1), ('equities,', 1), ('trades,', 1), ('calendar,', 1), ('year,', 1), ('2021,', 1), ('ownership,', 1), ('financial,', 1), ('institutions,', 1), ('banks,', 1), ('insurance,', 1), ('companies,', 1), ('established,', 1), ('1992,', 1), ('dematerialized,', 1), ('provide,', 1), ('modern,', 1), ('fully,', 1), ('automated,', 1), ('screen,', 1), ('system,', 1), ('offered,', 1), ('easy,', 1), ('facilities,', 1), ('investors,', 1), ('spread,', 1), ('length,', 1), ('breadth,', 1), ('Ashishkumar,', 1), ('Chauhan,', 1), ('Managing,', 1), ('Director,', 1), ('Chief,', 1), ('Executive,', 1), ('Officer,', 1), ('NSE]', 1)]\n"
          ]
        }
      ]
    },
    {
      "cell_type": "code",
      "source": [
        "stopword=str(stopwords)\n",
        "stopword\n"
      ],
      "metadata": {
        "colab": {
          "base_uri": "https://localhost:8080/",
          "height": 53
        },
        "id": "7_o3HdfuNfDz",
        "outputId": "35d2c6f5-df56-42b7-f462-86271db72d38"
      },
      "execution_count": 18,
      "outputs": [
        {
          "output_type": "execute_result",
          "data": {
            "text/plain": [
              "'[of, is, one, of, the, in, in, It, is, the, ’s, by, of, and, the, in, by, of, for, the, is, under, the, of, some, and, was, in, as, the, first, in, the, was, the, first, in, the, to, a, that, to, across, the, and, of, the, is, the, and, of]'"
            ],
            "application/vnd.google.colaboratory.intrinsic+json": {
              "type": "string"
            }
          },
          "metadata": {},
          "execution_count": 18
        }
      ]
    },
    {
      "cell_type": "code",
      "source": [
        "len(stopword)"
      ],
      "metadata": {
        "id": "goEBS3ZWSOPJ",
        "colab": {
          "base_uri": "https://localhost:8080/"
        },
        "outputId": "ccbd4fe0-153d-4209-da65-45c3f534b5bb"
      },
      "execution_count": 19,
      "outputs": [
        {
          "output_type": "execute_result",
          "data": {
            "text/plain": [
              "240"
            ]
          },
          "metadata": {},
          "execution_count": 19
        }
      ]
    },
    {
      "cell_type": "code",
      "source": [
        "st=stopword.split()\n",
        "st"
      ],
      "metadata": {
        "colab": {
          "base_uri": "https://localhost:8080/"
        },
        "id": "k9giqu34kMb8",
        "outputId": "34a264e6-06c3-4664-f572-1e9a63fa68ee"
      },
      "execution_count": 20,
      "outputs": [
        {
          "output_type": "execute_result",
          "data": {
            "text/plain": [
              "['[of,',\n",
              " 'is,',\n",
              " 'one,',\n",
              " 'of,',\n",
              " 'the,',\n",
              " 'in,',\n",
              " 'in,',\n",
              " 'It,',\n",
              " 'is,',\n",
              " 'the,',\n",
              " '’s,',\n",
              " 'by,',\n",
              " 'of,',\n",
              " 'and,',\n",
              " 'the,',\n",
              " 'in,',\n",
              " 'by,',\n",
              " 'of,',\n",
              " 'for,',\n",
              " 'the,',\n",
              " 'is,',\n",
              " 'under,',\n",
              " 'the,',\n",
              " 'of,',\n",
              " 'some,',\n",
              " 'and,',\n",
              " 'was,',\n",
              " 'in,',\n",
              " 'as,',\n",
              " 'the,',\n",
              " 'first,',\n",
              " 'in,',\n",
              " 'the,',\n",
              " 'was,',\n",
              " 'the,',\n",
              " 'first,',\n",
              " 'in,',\n",
              " 'the,',\n",
              " 'to,',\n",
              " 'a,',\n",
              " 'that,',\n",
              " 'to,',\n",
              " 'across,',\n",
              " 'the,',\n",
              " 'and,',\n",
              " 'of,',\n",
              " 'the,',\n",
              " 'is,',\n",
              " 'the,',\n",
              " 'and,',\n",
              " 'of]']"
            ]
          },
          "metadata": {},
          "execution_count": 20
        }
      ]
    },
    {
      "cell_type": "code",
      "source": [
        "import pandas as pd\n",
        "import numpy as np\n",
        "import nltk \n",
        "# sales = pd.read_csv('sales_data.csv')\n",
        "# print(sales.head()) Gives info about the start of the file\n",
        "# print(sales.info()) Gives info about all the attributes of the file\n",
        "# print(sales.describe())\n",
        "# print(sales.shape) gives the number of rows and columns in the dataset\n",
        "\n",
        "# file1 = open(\"docs.txt\",\"r\",errors=\"ignore\")\n",
        "# print(file1.read())\n",
        "\n",
        "stopword= (st)\n",
        "keyword = []\n",
        "delimiters = dl\n",
        "count = 0\n",
        "from collections import defaultdict\n",
        "\n",
        "def co_occurrence(sentences, window_size):\n",
        "    d = defaultdict(int)\n",
        "    count = 0\n",
        "    vocab = []\n",
        "    for text in sentences:\n",
        "        text = text.lower().split()\n",
        "        for word in text:\n",
        "            if word not in stopword:\n",
        "                for i in range(len(word)):\n",
        "                    if i in delimiters:\n",
        "                        count = count + 1\n",
        "                if count==0:\n",
        "                    keyword.append(word)\n",
        "        for i in range(len(keyword)):\n",
        "            token = keyword[i]\n",
        "            vocab.append(token)\n",
        "            next_token = keyword[i+1 : i+1+window_size]\n",
        "            for t in next_token:\n",
        "                key = tuple(sorted([t, token]) )\n",
        "                d[key] += 1\n",
        "    vocab = sorted(vocab)\n",
        "    df = pd.DataFrame(data=np.zeros((len(vocab), len(vocab)), dtype=np.int16),index=vocab,columns=vocab)\n",
        "    for key, value in d.items():\n",
        "        df.at[key[0], key[1]] = value\n",
        "        df.at[key[1], key[0]] = value\n",
        "    return df\n",
        "\n",
        "\n",
        "sentence = text\n",
        "\n",
        "\n",
        "\n",
        "# for text in sentence:\n",
        "#     text = text.lower().split()\n",
        "#     text = set(text)\n",
        "#     for word in text:\n",
        "#         if word in stopword:\n",
        "#             print(word + ' is in the list')\n",
        "#         else:\n",
        "#             keyword.append(word)\n",
        "# print(keyword)\n",
        "\n",
        "dataf = co_occurrence(sentence,2)\n",
        "print(dataf)"
      ],
      "metadata": {
        "id": "DmhlUp3_kCqs"
      },
      "execution_count": null,
      "outputs": []
    },
    {
      "cell_type": "code",
      "source": [
        "import pandas as pd\n",
        "import numpy as np\n",
        "import nltk \n",
        "\n",
        "#stopword=(stopword)\n",
        "keyword = keywords\n",
        "delimiters =  [',', '.', '.',' ,', ',', '.', '.', ',', '-', '.', '.']\n",
        "count = 0\n",
        "from collections import defaultdict\n",
        "\n",
        "def co_occurrence(sentences, window_size):\n",
        "    d = defaultdict(int)\n",
        "    count = 0\n",
        "    vocab = []\n",
        "    for text in sentences:\n",
        "        text = text.lower().split()\n",
        "        for word in text:\n",
        "            if word not in stopword:\n",
        "                for i in range(len(word)):\n",
        "                    if i in delimiters:\n",
        "                        count = count + 1\n",
        "                if count==0:\n",
        "                    keyword.append(word)\n",
        "        for i in range(len(keyword)):\n",
        "            token = keyword[i]\n",
        "            vocab.append(token)\n",
        "            next_token = keyword[i+1 : i+1+window_size]\n",
        "            for t in next_token:\n",
        "              key = tuple(sorted([t] + list(token)))\n",
        "              d[key] += 1\n",
        "    vocab = sorted([str(v) for v in vocab])\n",
        "\n",
        "    df = pd.DataFrame(data=np.zeros((len(vocab), len(vocab)), dtype=np.int16),index=vocab,columns=vocab)\n",
        "    for key, value in d.items():\n",
        "        df.at[key[0], key[1]] = value\n",
        "        df.at[key[1], key[0]] = value\n",
        "    return df\n",
        "\n",
        "\n",
        "sentence = [text]\n",
        "\n",
        "\n",
        "dataf = co_occurrence(sentence,2)\n",
        "print(dataf)\n"
      ],
      "metadata": {
        "id": "D-QB4KizfhEQ"
      },
      "execution_count": null,
      "outputs": []
    },
    {
      "cell_type": "code",
      "source": [
        "import re\n",
        "import numpy as np\n",
        "\n",
        "text = \"National Stock Exchange of India Limited is one of the leading stock exchanges in India, based in Mumbai. It is the world’s largest derivatives exchange by number of contracts traded and the fourth largest in cash equities by number of trades for the calendar year 2021. NSE is under the ownership of some leading financial institutions, banks, and insurance companies.NSE was established in 1992 as the first dematerialized electronic exchange in the country. NSE was the first exchange in the country to provide a modern, fully automated screen-based electronic trading system that offered easy trading facilities to investors spread across the length and breadth of the country. Ashishkumar Chauhan is the Managing Director and Chief Executive Officer of NSE.\"\n",
        "\n",
        "keywords = keyword\n",
        "\n",
        "# Define the delimiter pattern\n",
        "delimiters = r'[^\\w]+'\n",
        "\n",
        "# Split the text into words using the delimiter pattern\n",
        "words = re.split(delimiters, text)\n",
        "\n",
        "# Remove empty strings from the list of words\n",
        "words = [word for word in words if word]\n",
        "\n",
        "# Initialize the co-occurrence matrix with zeros\n",
        "co_occurrence_matrix = np.zeros((len(keywords), len(keywords)))\n",
        "\n",
        "# Iterate over the list of words and update the co-occurrence counts\n",
        "for i in range(len(words)):\n",
        "    if words[i] in keywords:\n",
        "        for j in range(i+1, len(words)):\n",
        "            if words[j] in keywords:\n",
        "                co_occurrence_matrix[keywords.index(words[i])][keywords.index(words[j])] += 1\n",
        "                co_occurrence_matrix[keywords.index(words[j])][keywords.index(words[i])] += 1\n",
        "\n",
        "# Print the keywords and the co-occurrence matrix\n",
        "#print(\"Keywords:\", keywords)\n",
        "print(\"Co-occurrence matrix:\")\n",
        "print(co_occurrence_matrix)\n",
        "\n"
      ],
      "metadata": {
        "id": "k5J88CKhVBkD"
      },
      "execution_count": null,
      "outputs": []
    }
  ]
}