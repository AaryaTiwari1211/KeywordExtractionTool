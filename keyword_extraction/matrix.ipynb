{
 "cells": [
  {
   "cell_type": "code",
   "execution_count": 1,
   "metadata": {
    "colab": {
     "base_uri": "https://localhost:8080/"
    },
    "id": "np25VRX18zKU",
    "outputId": "ec3508b0-fd5a-4754-c645-94b6551d1e45"
   },
   "outputs": [],
   "source": [
    "import spacy"
   ]
  },
  {
   "cell_type": "code",
   "execution_count": 2,
   "metadata": {
    "id": "6p0SkQl283Zm"
   },
   "outputs": [],
   "source": [
    "nlp = spacy.load(\"en_core_web_sm\")"
   ]
  },
  {
   "cell_type": "code",
   "execution_count": 9,
   "metadata": {},
   "outputs": [],
   "source": [
    "text = \"the mississippi river is the second-longest river and chief river of the second-largest drainage system in north america, second only to the hudson bay drainage system. from its traditional source of lake itasca in northern minnesota, it flows generally south for 2,340 miles (3,770 km) to the mississippi river delta in the gulf of mexico. with its many tributaries, the mississippi's watershed drains all or parts of 32 u.s states and two canadian provinces between the rocky and appalachian mountains. the main stem is entirely within the united states; the total drainage basin is 1,151,000 sq mi (2,980,000 km2), of which only about one percent is in canada. the mississippi ranks as the thirteenth-largest river by discharge in the world. the river either borders or passes through the states of minnesota, wisconsin, iowa, illinois, missouri, kentucky, tennessee, arkansas, mississippi, and louisiana. native americans have lived along the mississippi river and its tributaries for thousands of years. most were hunter-gatherers, but some, such as the mound builders, formed prolific agricultural and urban civilizations. the arrival of europeans in the 16th century changed the native way of life as first explorers, then settlers, ventured into the basin in increasing numbers.\""
   ]
  },
  {
   "cell_type": "code",
   "execution_count": 10,
   "metadata": {},
   "outputs": [
    {
     "name": "stdout",
     "output_type": "stream",
     "text": [
      "the mississippi river is the second-longest river and chief river of the second-largest drainage system in north america, second only to the hudson bay drainage system. from its traditional source of lake itasca in northern minnesota, it flows generally south for 2,340 miles (3,770 km) to the mississippi river delta in the gulf of mexico. with its many tributaries, the mississippi's watershed drains all or parts of 32 u.s states and two canadian provinces between the rocky and appalachian mountains. the main stem is entirely within the united states; the total drainage basin is 1,151,000 sq mi (2,980,000 km2), of which only about one percent is in canada. the mississippi ranks as the thirteenth-largest river by discharge in the world. the river either borders or passes through the states of minnesota, wisconsin, iowa, illinois, missouri, kentucky, tennessee, arkansas, mississippi, and louisiana. native americans have lived along the mississippi river and its tributaries for thousands of years. most were hunter-gatherers, but some, such as the mound builders, formed prolific agricultural and urban civilizations. the arrival of europeans in the 16th century changed the native way of life as first explorers, then settlers, ventured into the basin in increasing numbers.\n"
     ]
    }
   ],
   "source": [
    "print(text)"
   ]
  },
  {
   "cell_type": "code",
   "execution_count": 11,
   "metadata": {
    "id": "ey2VkDbD88sK"
   },
   "outputs": [],
   "source": [
    "doc = nlp(text)"
   ]
  },
  {
   "cell_type": "code",
   "execution_count": 13,
   "metadata": {
    "colab": {
     "base_uri": "https://localhost:8080/"
    },
    "id": "c_pKzCCm9Arw",
    "outputId": "44f965bd-d0c0-40d9-9979-2cc04933f663"
   },
   "outputs": [
    {
     "name": "stdout",
     "output_type": "stream",
     "text": [
      "326\n"
     ]
    }
   ],
   "source": [
    "stopword = nlp.Defaults.stop_words\n",
    "print(len(stopword))\n"
   ]
  },
  {
   "cell_type": "code",
   "execution_count": 14,
   "metadata": {
    "colab": {
     "base_uri": "https://localhost:8080/"
    },
    "id": "85pIHOsy9C1s",
    "outputId": "6124a1da-9fc1-46e9-ebbb-2196fefb97fb"
   },
   "outputs": [
    {
     "name": "stdout",
     "output_type": "stream",
     "text": [
      "the True\n",
      "mississippi False\n",
      "river False\n",
      "is True\n",
      "the True\n",
      "second False\n",
      "- False\n",
      "longest False\n",
      "river False\n",
      "and True\n"
     ]
    }
   ],
   "source": [
    "for token in doc[:10]:\n",
    "  print(token.text, token.is_stop)"
   ]
  },
  {
   "cell_type": "code",
   "execution_count": 15,
   "metadata": {
    "colab": {
     "base_uri": "https://localhost:8080/"
    },
    "id": "E62b6vrE9Fv8",
    "outputId": "dcd57640-d162-4d2d-c13b-32dfd2da9e20"
   },
   "outputs": [
    {
     "name": "stdout",
     "output_type": "stream",
     "text": [
      "[mississippi, river, second, longest, river, chief, river, second, largest, drainage, system, north, america, second, hudson, bay, drainage, system, traditional, source, lake, itasca, northern, minnesota, flows, generally, south, 2,340, miles, 3,770, km, mississippi, river, delta, gulf, mexico, tributaries, mississippi, watershed, drains, parts, 32, u.s, states, canadian, provinces, rocky, appalachian, mountains, main, stem, entirely, united, states, total, drainage, basin, 1,151,000, sq, mi, 2,980,000, km2, percent, canada, mississippi, ranks, thirteenth, largest, river, discharge, world, river, borders, passes, states, minnesota, wisconsin, iowa, illinois, missouri, kentucky, tennessee, arkansas, mississippi, louisiana, native, americans, lived, mississippi, river, tributaries, thousands, years, hunter, gatherers, mound, builders, formed, prolific, agricultural, urban, civilizations, arrival, europeans, 16th, century, changed, native, way, life, explorers, settlers, ventured, basin, increasing, numbers]\n"
     ]
    }
   ],
   "source": [
    "text2 = []\n",
    "for token in doc:\n",
    "  if token.is_stop == False and token.pos_ != \"PUNCT\":\n",
    "    text2.append(token)\n",
    "print(text2)"
   ]
  },
  {
   "cell_type": "code",
   "execution_count": 18,
   "metadata": {
    "colab": {
     "base_uri": "https://localhost:8080/"
    },
    "id": "knNiUpBa9HqR",
    "outputId": "8fa45d26-7285-4ef9-cfd4-68bca801c28a"
   },
   "outputs": [
    {
     "name": "stdout",
     "output_type": "stream",
     "text": [
      "[mississippi, river, second, longest, river, chief, river, second, largest, drainage, system, north, america, second, hudson, bay, drainage, system, traditional, source, lake, itasca, northern, minnesota, flows, generally, south, 2,340, miles, 3,770, km, mississippi, river, delta, gulf, mexico, tributaries, mississippi, watershed, drains, parts, 32, u.s, states, canadian, provinces, rocky, appalachian, mountains, main, stem, entirely, united, states, total, drainage, basin, 1,151,000, sq, mi, 2,980,000, km2, percent, canada, mississippi, ranks, thirteenth, largest, river, discharge, world, river, borders, passes, states, minnesota, wisconsin, iowa, illinois, missouri, kentucky, tennessee, arkansas, mississippi, louisiana, native, americans, lived, mississippi, river, tributaries, thousands, years, hunter, gatherers, mound, builders, formed, prolific, agricultural, urban, civilizations, arrival, europeans, 16th, century, changed, native, way, life, explorers, settlers, ventured, basin, increasing, numbers]\n"
     ]
    }
   ],
   "source": [
    "doc2 = nlp(str(text2))\n",
    "print(doc2)"
   ]
  },
  {
   "cell_type": "code",
   "execution_count": 21,
   "metadata": {},
   "outputs": [
    {
     "name": "stdout",
     "output_type": "stream",
     "text": [
      "mississippi river second long river chief river second large drainage system north america second hudson bay drainage system traditional source lake itasca northern minnesota flow generally south 2,340 mile 3,770 km mississippi river delta gulf mexico tributary mississippi watershed drain part 32 u.s state canadian province rocky appalachian mountain main stem entirely united states total drainage basin 1,151,000 sq mi 2,980,000 km2 percent canada mississippi rank thirteenth large river discharge world river border pass state minnesota wisconsin iowa illinois missouri kentucky tennessee arkansas mississippi louisiana native americans live mississippi river tributary thousand year hunter gatherer mound builder form prolific agricultural urban civilization arrival europeans 16th century change native way life explorer settler venture basin increase number\n"
     ]
    }
   ],
   "source": [
    "text3 = \" \".join([token.lemma_ for token in text2])\n",
    "print(text3)"
   ]
  },
  {
   "cell_type": "code",
   "execution_count": 24,
   "metadata": {},
   "outputs": [
    {
     "name": "stdout",
     "output_type": "stream",
     "text": [
      "['mississippi', 'river', 'second', 'long', 'river', 'chief', 'river', 'second', 'large', 'drainage', 'system', 'north', 'america', 'second', 'hudson', 'bay', 'drainage', 'system', 'traditional', 'source', 'lake', 'itasca', 'northern', 'minnesota', 'flow', 'generally', 'south', '2', '340', 'mile', '3', '770', 'km', 'mississippi', 'river', 'delta', 'gulf', 'mexico', 'tributary', 'mississippi', 'watershed', 'drain', 'part', '32', 'u', 's', 'state', 'canadian', 'province', 'rocky', 'appalachian', 'mountain', 'main', 'stem', 'entirely', 'united', 'states', 'total', 'drainage', 'basin', '1', '151', '000', 'sq', 'mi', '2', '980', '000', 'km2', 'percent', 'canada', 'mississippi', 'rank', 'thirteenth', 'large', 'river', 'discharge', 'world', 'river', 'border', 'pass', 'state', 'minnesota', 'wisconsin', 'iowa', 'illinois', 'missouri', 'kentucky', 'tennessee', 'arkansas', 'mississippi', 'louisiana', 'native', 'americans', 'live', 'mississippi', 'river', 'tributary', 'thousand', 'year', 'hunter', 'gatherer', 'mound', 'builder', 'form', 'prolific', 'agricultural', 'urban', 'civilization', 'arrival', 'europeans', '16th', 'century', 'change', 'native', 'way', 'life', 'explorer', 'settler', 'venture', 'basin', 'increase', 'number']\n"
     ]
    }
   ],
   "source": [
    "import re\n",
    "\n",
    "def split_sentence(sentence):\n",
    "\treturn re.findall(r'\\b\\w+\\b', sentence)\n",
    "#Driver code\n",
    "sentence = 'Hello Geeks for geeks'\n",
    "text4 = split_sentence(text3)\n",
    "print(keys)\n",
    "#This code is contributed by Edula Vinay Kumar Reddy\n"
   ]
  },
  {
   "cell_type": "code",
   "execution_count": 25,
   "metadata": {},
   "outputs": [
    {
     "name": "stdout",
     "output_type": "stream",
     "text": [
      "[('river', 7), ('mississippi', 6), ('second', 3), ('drainage', 3), ('large', 2), ('system', 2), ('minnesota', 2), ('2', 2), ('tributary', 2), ('state', 2), ('basin', 2), ('000', 2), ('native', 2), ('long', 1), ('chief', 1), ('north', 1), ('america', 1), ('hudson', 1), ('bay', 1), ('traditional', 1), ('source', 1), ('lake', 1), ('itasca', 1), ('northern', 1), ('flow', 1), ('generally', 1), ('south', 1), ('340', 1), ('mile', 1), ('3', 1), ('770', 1), ('km', 1), ('delta', 1), ('gulf', 1), ('mexico', 1), ('watershed', 1), ('drain', 1), ('part', 1), ('32', 1), ('u', 1), ('s', 1), ('canadian', 1), ('province', 1), ('rocky', 1), ('appalachian', 1), ('mountain', 1), ('main', 1), ('stem', 1), ('entirely', 1), ('united', 1), ('states', 1), ('total', 1), ('1', 1), ('151', 1), ('sq', 1), ('mi', 1), ('980', 1), ('km2', 1), ('percent', 1), ('canada', 1), ('rank', 1), ('thirteenth', 1), ('discharge', 1), ('world', 1), ('border', 1), ('pass', 1), ('wisconsin', 1), ('iowa', 1), ('illinois', 1), ('missouri', 1), ('kentucky', 1), ('tennessee', 1), ('arkansas', 1), ('louisiana', 1), ('americans', 1), ('live', 1), ('thousand', 1), ('year', 1), ('hunter', 1), ('gatherer', 1), ('mound', 1), ('builder', 1), ('form', 1), ('prolific', 1), ('agricultural', 1), ('urban', 1), ('civilization', 1), ('arrival', 1), ('europeans', 1), ('16th', 1), ('century', 1), ('change', 1), ('way', 1), ('life', 1), ('explorer', 1), ('settler', 1), ('venture', 1), ('increase', 1), ('number', 1)]\n"
     ]
    }
   ],
   "source": [
    "from nltk import FreqDist\n",
    "\n",
    "fdist1 = FreqDist(text4)\n",
    "print(fdist1.most_common())"
   ]
  },
  {
   "cell_type": "code",
   "execution_count": 40,
   "metadata": {
    "colab": {
     "base_uri": "https://localhost:8080/"
    },
    "id": "Xd-QA8qrjo9G",
    "outputId": "b3937592-3180-4cd1-f308-84a5e1f5e17a"
   },
   "outputs": [
    {
     "name": "stdout",
     "output_type": "stream",
     "text": [
      "      000  000  000  000  000  000  000  000  000  000  ...  year  year  year  \\\n",
      "000     0    0    0    0    0    0    0    0    0    0  ...     0     0     0   \n",
      "000     0    0    0    0    0    0    0    0    0    0  ...     0     0     0   \n",
      "000     0    0    0    0    0    0    0    0    0    0  ...     0     0     0   \n",
      "000     0    0    0    0    0    0    0    0    0    0  ...     0     0     0   \n",
      "000     0    0    0    0    0    0    0    0    0    0  ...     0     0     0   \n",
      "...   ...  ...  ...  ...  ...  ...  ...  ...  ...  ...  ...   ...   ...   ...   \n",
      "year    0    0    0    0    0    0    0    0    0    0  ...     0     0     0   \n",
      "year    0    0    0    0    0    0    0    0    0    0  ...     0     0     0   \n",
      "year    0    0    0    0    0    0    0    0    0    0  ...     0     0     0   \n",
      "year    0    0    0    0    0    0    0    0    0    0  ...     0     0     0   \n",
      "year    0    0    0    0    0    0    0    0    0    0  ...     0     0     0   \n",
      "\n",
      "      year  year  year  year  year  year  year  \n",
      "000      0     0     0     0     0     0     0  \n",
      "000      0     0     0     0     0     0     0  \n",
      "000      0     0     0     0     0     0     0  \n",
      "000      0     0     0     0     0     0     0  \n",
      "000      0     0     0     0     0     0     0  \n",
      "...    ...   ...   ...   ...   ...   ...   ...  \n",
      "year     0     0     0     0     0     0     0  \n",
      "year     0     0     0     0     0     0     0  \n",
      "year     0     0     0     0     0     0     0  \n",
      "year     0     0     0     0     0     0     0  \n",
      "year     0     0     0     0     0     0     0  \n",
      "\n",
      "[7545 rows x 7545 columns]\n"
     ]
    }
   ],
   "source": [
    "import pandas as pd\n",
    "import numpy as np\n",
    "import nltk \n",
    "\n",
    "keyword = []\n",
    "delimiters = ['.']\n",
    "count = 0\n",
    "from collections import defaultdict\n",
    "\n",
    "def co_occurrence(sentences, window_size):\n",
    "    d = defaultdict(int)\n",
    "    count = 0\n",
    "    vocab = []\n",
    "    for text in sentences:\n",
    "        text = text.lower().split()\n",
    "        for word in text:\n",
    "            if word not in stopword:\n",
    "                for i in range(len(word)):\n",
    "                    if i in delimiters:\n",
    "                        count = count + 1\n",
    "                if count==0:\n",
    "                    keyword.append(word)\n",
    "        for i in range(len(keyword)):\n",
    "            token = keyword[i]\n",
    "            vocab.append(token)\n",
    "            next_token = keyword[i+1 : i+1+window_size]\n",
    "            for t in next_token:\n",
    "                key = tuple(sorted([t, token]) )\n",
    "                d[key] += 1\n",
    "    vocab = sorted(vocab)\n",
    "    df = pd.DataFrame(data=np.zeros((len(vocab), len(vocab)), dtype=np.int16),index=vocab,columns=vocab)\n",
    "    for key, value in d.items():\n",
    "        df.at[key[0], key[1]] = value\n",
    "        df.at[key[1], key[0]] = value\n",
    "    return df\n",
    "\n",
    "\n",
    "sentences = ['Pratham is a good boy a very good boy.']\n",
    "\n",
    "dataf = co_occurrence(text4,2)\n",
    "print(dataf)"
   ]
  },
  {
   "cell_type": "code",
   "execution_count": 45,
   "metadata": {
    "id": "fCT2b2jj8wUq"
   },
   "outputs": [
    {
     "name": "stdout",
     "output_type": "stream",
     "text": [
      "             mississippi  mississippi  river  mississippi  river  second  \\\n",
      "mississippi            0            0    238            0    238     121   \n",
      "mississippi            0            0    238            0    238     121   \n",
      "river                238          238    117          238    117     356   \n",
      "mississippi            0            0    238            0    238     121   \n",
      "river                238          238    117          238    117     356   \n",
      "...                  ...          ...    ...          ...    ...     ...   \n",
      "settler                0            0      0            0      0       0   \n",
      "venture                0            0      0            0      0       0   \n",
      "basin                  0            0      0            0      0       0   \n",
      "increase               0            0      0            0      0       0   \n",
      "number                 0            0      0            0      0       0   \n",
      "\n",
      "             mississippi  river  second  long  ...  change  native  way  life  \\\n",
      "mississippi            0    238     121     0  ...       0      31    0     0   \n",
      "mississippi            0    238     121     0  ...       0      31    0     0   \n",
      "river                238    117     356   239  ...       0       0    0     0   \n",
      "mississippi            0    238     121     0  ...       0      31    0     0   \n",
      "river                238    117     356   239  ...       0       0    0     0   \n",
      "...                  ...    ...     ...   ...  ...     ...     ...  ...   ...   \n",
      "settler                0      0       0     0  ...       0       0    0     5   \n",
      "venture                0      0       0     0  ...       0       0    0     0   \n",
      "basin                  0      0       0     0  ...       0       0    0     0   \n",
      "increase               0      0       0     0  ...       0       0    0     0   \n",
      "number                 0      0       0     0  ...       0       0    0     0   \n",
      "\n",
      "             explorer  settler  venture  basin  increase  number  \n",
      "mississippi         0        0        0      0         0       0  \n",
      "mississippi         0        0        0      0         0       0  \n",
      "river               0        0        0      0         0       0  \n",
      "mississippi         0        0        0      0         0       0  \n",
      "river               0        0        0      0         0       0  \n",
      "...               ...      ...      ...    ...       ...     ...  \n",
      "settler             5        0        4      3         0       0  \n",
      "venture             4        4        0      3         2       0  \n",
      "basin               0        3        3      0         2       1  \n",
      "increase            0        0        2      2         0       1  \n",
      "number              0        0        0      1         1       0  \n",
      "\n",
      "[7545 rows x 7545 columns]\n"
     ]
    }
   ],
   "source": [
    "# Copied----\n",
    "import pandas as pd\n",
    "import numpy as np\n",
    "import nltk \n",
    "\n",
    "keyword = []\n",
    "delimiters = ['.']\n",
    "count = 0\n",
    "from collections import defaultdict\n",
    "\n",
    "def co_occurrence(sentences, window_size):\n",
    "    d = defaultdict(int)\n",
    "    count = 0\n",
    "    vocab = []\n",
    "#     sentences = keyword\n",
    "    for text in sentences:\n",
    "        text = text.lower().split()\n",
    "        for word in text:\n",
    "            if word not in stopword:\n",
    "                for i in range(len(word)):\n",
    "                    if i in delimiters:\n",
    "                        count = count + 1\n",
    "                if count==0:\n",
    "                    keyword.append(word)\n",
    "        for i in range(len(keyword)):\n",
    "            token = keyword[i]\n",
    "            vocab.append(token)\n",
    "            next_token = keyword[i+1 : i+1+window_size]\n",
    "            for t in next_token:\n",
    "                key = tuple(sorted([t, token]) )\n",
    "                d[key] += 1\n",
    "#     vocab = sorted(vocab)\n",
    "    df = pd.DataFrame(data=np.zeros((len(vocab), len(vocab)), dtype=np.int16),index=vocab,columns=vocab)\n",
    "    for key, value in d.items():\n",
    "        df.at[key[0], key[1]] = value\n",
    "        df.at[key[1], key[0]] = value\n",
    "    return df\n",
    "\n",
    "\n",
    "sentences = ['Pratham is a good boy a very good boy.']\n",
    "\n",
    "dataf = co_occurrence(text4,2)\n",
    "print(dataf)"
   ]
  },
  {
   "cell_type": "code",
   "execution_count": null,
   "metadata": {},
   "outputs": [],
   "source": []
  }
 ],
 "metadata": {
  "colab": {
   "provenance": []
  },
  "kernelspec": {
   "display_name": "Python 3 (ipykernel)",
   "language": "python",
   "name": "python3"
  },
  "language_info": {
   "codemirror_mode": {
    "name": "ipython",
    "version": 3
   },
   "file_extension": ".py",
   "mimetype": "text/x-python",
   "name": "python",
   "nbconvert_exporter": "python",
   "pygments_lexer": "ipython3",
   "version": "3.9.13"
  }
 },
 "nbformat": 4,
 "nbformat_minor": 1
}
